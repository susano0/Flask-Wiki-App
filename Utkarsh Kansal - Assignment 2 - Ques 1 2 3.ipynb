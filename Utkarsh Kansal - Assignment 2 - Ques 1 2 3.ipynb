{
 "cells": [
  {
   "cell_type": "markdown",
   "metadata": {},
   "source": [
    "# Assignment - 2"
   ]
  },
  {
   "cell_type": "markdown",
   "metadata": {},
   "source": [
    "## 1. Write a Python class named Circle constructed by a radius and two methods which will compute the area and the perimeter of a circle. Also write functions to compare (<, >, <=, >=, ==, !=) 2 circles on the basis of their radius.\n"
   ]
  },
  {
   "cell_type": "code",
   "execution_count": 11,
   "metadata": {},
   "outputs": [],
   "source": [
    "from math import pi\n",
    "class Circle:\n",
    "    def __init__(self,radius):\n",
    "        self.radius = radius\n",
    "    def area(self):\n",
    "        return pi * (self.radius**2)\n",
    "    def perimeter(self):\n",
    "        return 2*pi*self.radius\n",
    "    def __lt__(self, other):\n",
    "        return self.radius<other.radius\n",
    "    def __le__(self, other):\n",
    "        return self.radius<=other.radius\n",
    "    def __eq__(self, other):\n",
    "        return self.radius==other.radius\n",
    "    def __ne__(self, other):\n",
    "        return self.radius!=other.radius\n",
    "    def __gt__(self, other):\n",
    "        return self.radius>other.radius\n",
    "    def __ge__(self, other):\n",
    "        return self.radius>=other.radius\n",
    "    "
   ]
  },
  {
   "cell_type": "code",
   "execution_count": 14,
   "metadata": {},
   "outputs": [
    {
     "name": "stdout",
     "output_type": "stream",
     "text": [
      "Area of circle 1 is:  78.53981633974483\n",
      "Perimeter of circle 1 is:  31.41592653589793\n",
      "Is Circle 1 < Circle 2?:  False\n",
      "Is Circle 1 <=  Circle 2?:  False\n",
      "Is Circle 1 ==  Circle 2?:  False\n",
      "Is Circle 1 != Circle 2?:  True\n",
      "Is Circle 1 > Circle 2?:  True\n",
      "Is Circle 1 >= Circle 2?:  True\n"
     ]
    }
   ],
   "source": [
    "cir1 = Circle(5)\n",
    "cir2 = Circle(3)\n",
    "print(\"Area of circle 1 is: \",cir1.area())\n",
    "print(\"Perimeter of circle 1 is: \",cir1.perimeter())\n",
    "print(\"Is Circle 1 < Circle 2?: \",cir1<cir2)\n",
    "print(\"Is Circle 1 <=  Circle 2?: \",cir1<=cir2)\n",
    "print(\"Is Circle 1 ==  Circle 2?: \",cir1==cir2)\n",
    "print(\"Is Circle 1 != Circle 2?: \",cir1!=cir2)\n",
    "print(\"Is Circle 1 > Circle 2?: \",cir1>cir2)\n",
    "print(\"Is Circle 1 >= Circle 2?: \",cir1>=cir2)"
   ]
  },
  {
   "cell_type": "markdown",
   "metadata": {},
   "source": [
    "## 2. Write a program which takes a text file as input and does following operations sequentially over it:\n",
    "\t- Create a list of words present in file\n",
    "\t- Convert all words to uppercase (using map)\n",
    "\t- Remove the words from list which contain 'a' (using filter)\n",
    "\t- Generate a string by concatenating all the words in the final list (using reduce)"
   ]
  },
  {
   "cell_type": "code",
   "execution_count": 34,
   "metadata": {},
   "outputs": [
    {
     "name": "stdout",
     "output_type": "stream",
     "text": [
      "Enter the text file: test.txt\n",
      "List of words:\n",
      "\n",
      " ['Some', 'of', 'these', 'stories', 'are', 'very', 'short', 'and', 'basic.', 'In', 'fact', 'some', 'are', 'so', 'basic', 'they', 'are', 'most', 'likely', 'featured', 'in', 'children', 'books', 'somewhere.', 'However,', 'the', 'strength', 'of', 'the', 'message', 'remains', 'the', 'same.']\n",
      "\n",
      "Words with uppercase:\n",
      "\n",
      " ['SOME', 'OF', 'THESE', 'STORIES', 'ARE', 'VERY', 'SHORT', 'AND', 'BASIC.', 'IN', 'FACT', 'SOME', 'ARE', 'SO', 'BASIC', 'THEY', 'ARE', 'MOST', 'LIKELY', 'FEATURED', 'IN', 'CHILDREN', 'BOOKS', 'SOMEWHERE.', 'HOWEVER,', 'THE', 'STRENGTH', 'OF', 'THE', 'MESSAGE', 'REMAINS', 'THE', 'SAME.']\n",
      "\n",
      "Words without 'A' in them:\n",
      "\n",
      " ['SOME', 'OF', 'THESE', 'STORIES', 'VERY', 'SHORT', 'IN', 'SOME', 'SO', 'THEY', 'MOST', 'LIKELY', 'IN', 'CHILDREN', 'BOOKS', 'SOMEWHERE.', 'HOWEVER,', 'THE', 'STRENGTH', 'OF', 'THE', 'THE']\n",
      "\n",
      "Final string generated:\n",
      "\n",
      " SOME OF THESE STORIES VERY SHORT IN SOME SO THEY MOST LIKELY IN CHILDREN BOOKS SOMEWHERE. HOWEVER, THE STRENGTH OF THE THE\n"
     ]
    }
   ],
   "source": [
    "from functools import reduce\n",
    "file = input(\"Enter the text file: \")\n",
    "with open(file,'r') as f:\n",
    "    #Create a list of words present in file\n",
    "    word_list = f.read().split()\n",
    "    print(\"List of words:\\n\\n\",word_list)\n",
    "    \n",
    "    #Convert all words to uppercase (using map)\n",
    "    upper_list = list(map(lambda word:word.upper(),word_list))\n",
    "    print(\"\\nWords with uppercase:\\n\\n\",upper_list)\n",
    "    \n",
    "    #Remove the words from list which contain 'a' (using filter)\n",
    "    words_not_a = list(filter(lambda word: 'A' not in word ,upper_list)) \n",
    "    print(\"\\nWords without 'A' in them:\\n\\n\",words_not_a)\n",
    "    \n",
    "    #Generate a string by concatenating all the words in the final list (using reduce)\n",
    "    new_str = reduce(lambda w1,w2:w1 + \" \" + w2,words_not_a)\n",
    "    print(\"\\nFinal string generated:\\n\\n\",new_str)\n",
    "\n"
   ]
  },
  {
   "cell_type": "markdown",
   "metadata": {},
   "source": [
    "## 3. Go through the available public apis listed here: https://github.com/toddmotto/public-apis. Select any 2 of your favorite APIs and write a python script to:\n",
    "\n",
    "\t- collect data from those APIs\n",
    "\t- save the data in a file (json/txt file)\n"
   ]
  },
  {
   "cell_type": "code",
   "execution_count": 42,
   "metadata": {},
   "outputs": [],
   "source": [
    "import requests\n",
    "import json\n",
    "\n",
    "url = \"https://data.ratp.fr/api/datasets/1.0/search/\"\n",
    "data = requests.get(url).json()\n",
    "with open('paris_travel.json', 'w') as json_file:  \n",
    "    json.dump(data, json_file,indent=4,sort_keys=True)\n"
   ]
  },
  {
   "cell_type": "code",
   "execution_count": 44,
   "metadata": {},
   "outputs": [],
   "source": [
    "url = \"https://jobs.search.gov/jobs/search.json?query=nursing+jobs\"\n",
    "data = requests.get(url).json()\n",
    "with open('jobs_in_US.json', 'w') as json_file:  \n",
    "    json.dump(data, json_file,indent=4,sort_keys=True)"
   ]
  },
  {
   "cell_type": "markdown",
   "metadata": {},
   "source": [
    "## 4. Create a simple flask application in which:\n",
    "\t- user can enter any query\n",
    "\t- show a wikipedia summary of the topic to the user.\n",
    "\t- Use wikipedia package (https://wikipedia.readthedocs.io/en/latest/quickstart.html) for showing the summary.\n",
    "\t- Deploy the application on heroku"
   ]
  },
  {
   "cell_type": "markdown",
   "metadata": {},
   "source": []
  },
  {
   "cell_type": "markdown",
   "metadata": {},
   "source": [
    "Herokuapp link : - https://utk-wiki.herokuapp.com/\n",
    "\n",
    "Code present in folder \"Wiki_Project - Ques 4\" attached with the assignment"
   ]
  },
  {
   "cell_type": "code",
   "execution_count": null,
   "metadata": {},
   "outputs": [],
   "source": []
  }
 ],
 "metadata": {
  "kernelspec": {
   "display_name": "Python 3",
   "language": "python",
   "name": "python3"
  },
  "language_info": {
   "codemirror_mode": {
    "name": "ipython",
    "version": 3
   },
   "file_extension": ".py",
   "mimetype": "text/x-python",
   "name": "python",
   "nbconvert_exporter": "python",
   "pygments_lexer": "ipython3",
   "version": "3.6.8"
  }
 },
 "nbformat": 4,
 "nbformat_minor": 2
}
